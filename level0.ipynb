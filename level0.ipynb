{
 "cells": [
  {
   "cell_type": "code",
   "execution_count": 103,
   "metadata": {},
   "outputs": [
    {
     "name": "stdout",
     "output_type": "stream",
     "text": [
      "{'v0': {'path': ['r0', 'n13', 'n11', 'n0', 'n5', 'n6', 'n7', 'n19', 'n17', 'n14', 'n10', 'n15', 'n4', 'n12', 'n9', 'n2', 'n18', 'n1', 'n16', 'n3', 'n8', 'n-1', 'r0']}}\n"
     ]
    }
   ],
   "source": [
    "import json\n",
    "\n",
    "def find_minimum(route, places, distances, memo):\n",
    "    min_distance = float('inf')\n",
    "    place = -1\n",
    "\n",
    "    for i, distance in enumerate(distances):\n",
    "        if distance != 0 and i not in places:\n",
    "            if min_distance > distance:\n",
    "                place = i\n",
    "                min_distance = distance\n",
    "    \n",
    "    route.append(min_distance)\n",
    "    places.append(place)\n",
    "    memo[tuple(places)] = min_distance\n",
    "\n",
    "def solve(data):\n",
    "    start_distance = data['restaurants']['r0']['neighbourhood_distance']\n",
    "    all_distances = {'r0': start_distance}\n",
    "    memo = {}\n",
    "\n",
    "    for i in range(20):\n",
    "        key = 'n' + str(i)\n",
    "        distances = data['neighbourhoods'][key]['distances']\n",
    "        all_distances[key] = distances\n",
    "    \n",
    "    route = []\n",
    "    places = []\n",
    "    \n",
    "    find_minimum(route, places, all_distances['r0'], memo)\n",
    "    \n",
    "    for i in range(1, 21):\n",
    "        if i == 1:\n",
    "            find_minimum(route, places, all_distances['n0'], memo)\n",
    "        else:\n",
    "            last_place = places[-1]\n",
    "            find_minimum(route, places, all_distances['n' + str(last_place)], memo)\n",
    "\n",
    "    routes = {}\n",
    "    total_cost = sum(route[-2::-1])\n",
    "    \n",
    "\n",
    "    for i in range(len(route)-1):\n",
    "        val = 'n' + str(places[i])\n",
    "        routes[val] = route[i]\n",
    "\n",
    "\n",
    "    converted_path = ['r0'] + [f'n{place}' for place in places] + ['r0']\n",
    "    converted_output = {\"v0\": {\"path\": converted_path}}\n",
    "\n",
    "    with open('level0_myoutput.json', \"w\") as json_file:\n",
    "        json.dump(converted_output, json_file)\n",
    "    \n",
    "    return converted_output\n",
    "\n",
    "# Load data from JSON file\n",
    "with open('level0.json') as file:\n",
    "    data = json.load(file)\n",
    "\n",
    "# Solve the problem and output the result\n",
    "converted_output = solve(data)\n",
    "print(converted_output)"
   ]
  }
 ],
 "metadata": {
  "kernelspec": {
   "display_name": "Python 3 (ipykernel)",
   "language": "python",
   "name": "python3"
  },
  "language_info": {
   "codemirror_mode": {
    "name": "ipython",
    "version": 3
   },
   "file_extension": ".py",
   "mimetype": "text/x-python",
   "name": "python",
   "nbconvert_exporter": "python",
   "pygments_lexer": "ipython3",
   "version": "3.11.5"
  }
 },
 "nbformat": 4,
 "nbformat_minor": 2
}
